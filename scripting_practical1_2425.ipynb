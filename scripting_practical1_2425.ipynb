{
  "nbformat": 4,
  "nbformat_minor": 0,
  "metadata": {
    "colab": {
      "private_outputs": true,
      "provenance": [],
      "include_colab_link": true
    },
    "kernelspec": {
      "name": "python3",
      "display_name": "Python 3"
    },
    "language_info": {
      "name": "python"
    }
  },
  "cells": [
    {
      "cell_type": "markdown",
      "metadata": {
        "id": "view-in-github",
        "colab_type": "text"
      },
      "source": [
        "<a href=\"https://colab.research.google.com/github/luanamarinho/adv-r/blob/master/scripting_practical1_2425.ipynb\" target=\"_parent\"><img src=\"https://colab.research.google.com/assets/colab-badge.svg\" alt=\"Open In Colab\"/></a>"
      ]
    },
    {
      "cell_type": "markdown",
      "metadata": {
        "id": "9lvCCyBxv730"
      },
      "source": [
        "# Scripting languages: practical session 1\n",
        "\n",
        "Wednesday, 2 October 2024"
      ]
    },
    {
      "cell_type": "markdown",
      "metadata": {
        "id": "-kAL6HCmHZZf"
      },
      "source": [
        "## Preliminaries\n",
        "\n",
        "For this first practical session of the course 'Scripting languages', we'll make use of a notebook environment. A notebook is an interactive environment that makes it possible to run code (in our case, Python code) within a web browser.\n",
        "\n",
        "You have two options to run the notebook environment:\n",
        "\n",
        "- On your own computer, you can use **Jupyter Notebook**. If you installed the Anaconda distribution, Jupyter notebook should be available through Anaconda. You can start the environment using the *Anaconda navigator*. The notebook environment will load in your web browser. Once the environment is loaded, you'll get a directory structure that you can use to open the `.ipynb` file that you saved to your computer (available to download from the Toledo coursepage).\n",
        "\n",
        "- You can also make use of **Google Colab**. Google Colab offers a similar notebook interface. Note, however, that the code will not be running on your own computer, but on Google's servers, accessed through the online environment. In order to make use of Google Colab, you will need a Google account.\n",
        "\n",
        "In a notebook, you can run the code (which is marked by a gray background) by clicking on it, and then pressing `Ctrl+Enter` (i.e., pressing the `Ctrl` and the `Enter` key on your keyboard at the same time). In Google Colab, you can also press the *play* button that appears in front of the code when hovering over it. Try it out below:\n",
        "\n",
        "\n",
        "\n"
      ]
    },
    {
      "cell_type": "code",
      "metadata": {
        "id": "hcEeANTpJxdF"
      },
      "source": [
        "1 + 1"
      ],
      "execution_count": null,
      "outputs": []
    },
    {
      "cell_type": "markdown",
      "metadata": {
        "id": "l42T2ptfJyte"
      },
      "source": [
        "An important remark: when running code cells you should run them in order, from top to bottom of the notebook. This is because cells may rely on the results of other cells. Without those earlier results being available it is very likely that you will get an error.\n",
        "\n",
        "Note: in Jupyter notebook, you can save the changes you make by pressing the save button in the menu. In Google Colab, you will need to make a copy of the notebook in order to save the changes you make. By selecting 'File' -> 'Save a Copy in Drive', you can copy the current Google Colab session to your Google Drive, so that changes you make will be saved, and you can access them later."
      ]
    },
    {
      "cell_type": "markdown",
      "metadata": {
        "id": "Sf88hjOjCw8n"
      },
      "source": [
        "## Introduction\n",
        "\n",
        "In this practical session, we'll review the fundamental concepts that we've looked at during the lecture on Wednesday (such as functions, variables, strings, and lists), and you'll have a chance to practice these concepts with a number of exercises.\n",
        "\n",
        "In many programming courses, for many different programming languages, the first program you learn is called `HelloWorld`. It's a very simple program that prints the text `Hello, world!` to the screen."
      ]
    },
    {
      "cell_type": "code",
      "metadata": {
        "id": "yYuJxFqCHTcO"
      },
      "source": [
        "print(\"Hello, world!\")"
      ],
      "execution_count": null,
      "outputs": []
    },
    {
      "cell_type": "markdown",
      "metadata": {
        "id": "zuAyCD5CJru-"
      },
      "source": [
        "What happens is that you call the `print()` function with a single argument. This argument is the string `\"Hello, world!\"`. When the function is executed, its argument is displayed on screen."
      ]
    },
    {
      "cell_type": "code",
      "metadata": {
        "id": "KNvTJXmdKF33"
      },
      "source": [
        "print('Hello, world!')"
      ],
      "execution_count": null,
      "outputs": []
    },
    {
      "cell_type": "markdown",
      "metadata": {
        "id": "EoUUWJH1KK1Z"
      },
      "source": [
        "As you can see, using single quotes (`'`) or double quotes (`\"`) does not really matter, so you can choose, depending on the content of your text."
      ]
    },
    {
      "cell_type": "markdown",
      "metadata": {
        "id": "CHsHPgtpKW_r"
      },
      "source": [
        "###Exercise 1: Print your name\n",
        "\n",
        "Write your solution in the code-box below. Note that text which appears after the `#`-sign, is considered a comment, and is not interpreted by the Python interpreter."
      ]
    },
    {
      "cell_type": "code",
      "metadata": {
        "id": "8ncOEb4MKeJp"
      },
      "source": [
        "# Write the solution to the exercise here\n"
      ],
      "execution_count": null,
      "outputs": []
    },
    {
      "cell_type": "markdown",
      "metadata": {
        "id": "oBSIF0M9Kzoz"
      },
      "source": [
        "## Numbers\n",
        "With numbers, you can do simple arithmetic, like you would expect. Note that for computers the `*` is usually the sign for *multiplication*, and `/` is the sign for *division*. Remember that calculations in Python are carried out according to precedence rules, as we've seen during class."
      ]
    },
    {
      "cell_type": "code",
      "metadata": {
        "id": "vHpgVCBXLF8I"
      },
      "source": [
        "2 + 2"
      ],
      "execution_count": null,
      "outputs": []
    },
    {
      "cell_type": "code",
      "metadata": {
        "id": "4JAQKUALLPvA"
      },
      "source": [
        "2 + 6 - 3"
      ],
      "execution_count": null,
      "outputs": []
    },
    {
      "cell_type": "code",
      "metadata": {
        "id": "2IiXPAdrLTBI"
      },
      "source": [
        "2 * 1 + 3"
      ],
      "execution_count": null,
      "outputs": []
    },
    {
      "cell_type": "code",
      "metadata": {
        "id": "iyg0fMvqLe84"
      },
      "source": [
        "2 * ( 1 + 3 )"
      ],
      "execution_count": null,
      "outputs": []
    },
    {
      "cell_type": "code",
      "metadata": {
        "id": "iXQfOmABLkK_"
      },
      "source": [
        "3 / 4"
      ],
      "execution_count": null,
      "outputs": []
    },
    {
      "cell_type": "markdown",
      "metadata": {
        "id": "rlr9b1hoLmjW"
      },
      "source": [
        "Note that Python displays the result of the calculation in the output, although there is no `print()` statement. This is because Python returns the evaluation of the last line, which in this case, returns the results of the calculation.\n",
        "\n",
        "If we want to make sure the result is shown, we can put the calculation in a `print()` statement. Note that no quotes are required, since we do not want to print the literal string, but the result of the calculation."
      ]
    },
    {
      "cell_type": "code",
      "metadata": {
        "id": "YlwGdOjrNNWc"
      },
      "source": [
        "print(3 + 4 / 2)   # prints the result of the calculation\n",
        "print(\"3 + 4 / 2\") # prints the string between the \"\""
      ],
      "execution_count": null,
      "outputs": []
    },
    {
      "cell_type": "markdown",
      "metadata": {
        "id": "2VXqIoxBMBGb"
      },
      "source": [
        "### Exercise 2: Calculation\n",
        "The exponent (power) operator in Python is `**`.\n",
        "\n",
        "`3 ** 2` is `9`, and\n",
        "\n",
        " `49 ** ( 1 / 2 )` is `7` (the square root of 49).\n",
        "\n",
        "Use an expression to find the sum of the numbers 1 through 3 squared, i.e. $1^2+ 2^2+ 3^2$."
      ]
    },
    {
      "cell_type": "code",
      "metadata": {
        "id": "V3E-9sDwMB4u"
      },
      "source": [
        "# Write the solution to the exercise here\n"
      ],
      "execution_count": null,
      "outputs": []
    },
    {
      "cell_type": "markdown",
      "metadata": {
        "id": "DK6H5fE0ABtF"
      },
      "source": [
        "Now compute how many seconds there are in one year (365 days)."
      ]
    },
    {
      "cell_type": "code",
      "metadata": {
        "id": "S2PujO--_zWU"
      },
      "source": [
        "# Write the solution to the exercise here\n"
      ],
      "execution_count": null,
      "outputs": []
    },
    {
      "cell_type": "markdown",
      "metadata": {
        "id": "MP1JHbKqMlmj"
      },
      "source": [
        "### Exercise 3: Average\n",
        "The local dancing club provides two different dance classes: the first one is hip hop, and the other is swing. The four participants of the first class are aged 22, 17, 24, and 29. The five participants of the second class are aged 44, 22, 39, 56, and 42.\n",
        "\n",
        "What is the average age of people in each group? What about all of them together?"
      ]
    },
    {
      "cell_type": "code",
      "metadata": {
        "id": "h4vrem4PM5aZ"
      },
      "source": [
        "# Solution\n",
        "\n",
        "# average age of first group\n",
        "\n",
        "# average age of second group\n",
        "\n",
        "# average age of all members"
      ],
      "execution_count": null,
      "outputs": []
    },
    {
      "cell_type": "markdown",
      "metadata": {
        "id": "clbY4pzPRBtq"
      },
      "source": [
        "## Variables\n",
        "\n",
        "Expressions will often become so big that they become too inconvenient to keep all on one line. Suppose that a highway patrol car is measuring the average car speed (in km/h) at 5pm in the evening and at 2am at night, as well as the combined average. They take three measurements at in the evening (78, 83, 88), and four measurements at night (122, 145, 111, 110).\n",
        "\n"
      ]
    },
    {
      "cell_type": "markdown",
      "metadata": {
        "id": "-dth7Pi_URgd"
      },
      "source": [
        "### Exercise 4: Average II\n",
        "Compute the average without variables, just like before"
      ]
    },
    {
      "cell_type": "code",
      "metadata": {
        "id": "aunqraegRaqg"
      },
      "source": [
        "# Average in the afternoon\n",
        "\n",
        "# Average at night\n",
        "\n",
        "# Combined average\n"
      ],
      "execution_count": null,
      "outputs": []
    },
    {
      "cell_type": "markdown",
      "metadata": {
        "id": "DReYuSfzRl08"
      },
      "source": [
        "It’s doable, but inconvenient and error-prone.\n",
        "\n",
        "**Variables** solve this problem by letting you store intermediate values for later use. Let’s work that example again, this time using variables:"
      ]
    },
    {
      "cell_type": "code",
      "metadata": {
        "id": "gdbBO3PsRtNO"
      },
      "source": [
        "afternoon_avg = (78 + 83 + 88) / 3\n",
        "night_avg = (122 + 145 + 111 + 110) / 4\n",
        "combined_avg = (afternoon_avg + night_avg) / 2\n",
        "print(afternoon_avg, night_avg, combined_avg)"
      ],
      "execution_count": null,
      "outputs": []
    },
    {
      "cell_type": "markdown",
      "metadata": {
        "id": "TJabKYaJxRJD"
      },
      "source": [
        "## Strings\n",
        "A string is a sequence of characters, like `\"wug\"` or `'currywurst'`. If you're taking this course, you are probably interested in digital humanities or NLP, and so you will be working with strings a lot.\n",
        "\n",
        "To write a string, you may use single quotes, double quotes, or triple quotes:"
      ]
    },
    {
      "cell_type": "code",
      "metadata": {
        "id": "V0gf0t_onfTm"
      },
      "source": [
        "\"a string\""
      ],
      "execution_count": null,
      "outputs": []
    },
    {
      "cell_type": "markdown",
      "source": [
        "If you create a string by using single quotes, but you have an actual single quote inside your string, then you will need to put a backslash in front of that single quote. This is called *escaping* a character."
      ],
      "metadata": {
        "id": "DJo4MyQ5m_cN"
      }
    },
    {
      "cell_type": "code",
      "metadata": {
        "id": "KZ5YcwalnfEw"
      },
      "source": [
        "'here, apostrophes\\'ll need a backslash before them'"
      ],
      "execution_count": null,
      "outputs": []
    },
    {
      "cell_type": "markdown",
      "source": [
        "Of course, the same goes for double quotes:"
      ],
      "metadata": {
        "id": "C84DVkfknWX9"
      }
    },
    {
      "cell_type": "code",
      "metadata": {
        "id": "SX_ea1_Vnh62"
      },
      "source": [
        "\"\\\"here\\\", he says, \\\"quotes need a backslash\\\"\""
      ],
      "execution_count": null,
      "outputs": []
    },
    {
      "cell_type": "code",
      "metadata": {
        "id": "oMnUJr44nm6W"
      },
      "source": [
        "\"but apostrophes won't\""
      ],
      "execution_count": null,
      "outputs": []
    },
    {
      "cell_type": "markdown",
      "source": [
        "By using triple quotes (actually, three double quotes) you can include both single and double quotes, and your string may consist of multiple lines."
      ],
      "metadata": {
        "id": "KDrDxLyBnvTs"
      }
    },
    {
      "cell_type": "code",
      "metadata": {
        "id": "pvhaL-tEnCmE"
      },
      "source": [
        "\"\"\"\n",
        "\"Un-backslashed apostrophes and quotes 'll be just fine\",\n",
        "she said, \"and multiple lines, too .\"\n",
        "\"\"\""
      ],
      "execution_count": null,
      "outputs": []
    },
    {
      "cell_type": "markdown",
      "metadata": {
        "id": "NFdpU7_0oULo"
      },
      "source": [
        "\n",
        "There are some character sequences that have special meanings within strings, and the two most important ones are `\\n`, for starting a new line, and `\\t`, for a tab"
      ]
    },
    {
      "cell_type": "code",
      "metadata": {
        "id": "kvytXz29yfGn"
      },
      "source": [
        "print(' one\\ttwo ')"
      ],
      "execution_count": null,
      "outputs": []
    },
    {
      "cell_type": "code",
      "metadata": {
        "id": "rR5NIXPnypah"
      },
      "source": [
        "print('one\\ntwo')"
      ],
      "execution_count": null,
      "outputs": []
    },
    {
      "cell_type": "markdown",
      "metadata": {
        "id": "bN6SQ4XQywj9"
      },
      "source": [
        "With numbers, there are only so many basic functions we could apply to them. With strings, there are many more. `+` and `*` can be used on strings, with intuitive meaning:"
      ]
    },
    {
      "cell_type": "code",
      "metadata": {
        "id": "wJxXD2hMy4EO"
      },
      "source": [
        "first_name = \"Richard\"\n",
        "second_name = \"Simmons\"\n",
        "\n",
        "full_name = first_name + \" \" + second_name\n",
        "print(full_name)\n",
        "\n",
        "long = 'l' + 'o' * 10 + 'ng'\n",
        "print(long)\n"
      ],
      "execution_count": null,
      "outputs": []
    },
    {
      "cell_type": "markdown",
      "metadata": {
        "id": "_p9RPB7gzWKj"
      },
      "source": [
        "Strings also have **methods**. Methods are functions that are closely associated with a certain type of data. We’ll talk more about them later, but for now, you should just know that they’re written in the syntax `t.f()` instead of in the syntax `f(t)`, like a function you might know from mathematics.\n",
        "\n",
        "For example, strings have a replace method that replaces every occurrence of some pattern inside the string with another string:"
      ]
    },
    {
      "cell_type": "code",
      "metadata": {
        "id": "wOSjZzMOzr3c"
      },
      "source": [
        "s = \"blockchains will change the world\"\n",
        "s = s.replace(\"blockchain\", \"giant spreadsheet\")\n",
        "print(s)"
      ],
      "execution_count": null,
      "outputs": []
    },
    {
      "cell_type": "markdown",
      "metadata": {
        "id": "HXI47TiCz0LT"
      },
      "source": [
        "If you’re curious, you can find a full list of Python’s string methods in the\n",
        "[official documentation](https://docs.python.org/3/library/stdtypes.html#string-methods)."
      ]
    },
    {
      "cell_type": "markdown",
      "metadata": {
        "id": "UkSbZvER0H7I"
      },
      "source": [
        "### Exercise 5: Substitution\n",
        "Use the replace method to turn `\"Warden Greely's Nordic garden\"` into `\"Warten Greely's Nordic garten\"`."
      ]
    },
    {
      "cell_type": "code",
      "metadata": {
        "id": "vgAYUJD20Q7X"
      },
      "source": [
        "# Solution for Exercise 5\n"
      ],
      "execution_count": null,
      "outputs": []
    },
    {
      "cell_type": "markdown",
      "metadata": {
        "id": "95ham76A0VcI"
      },
      "source": [
        "### Exercise 6: Concatenation\n",
        "\n",
        "Use `+` and `*` to produce `\"Buffalo buffalo buffalo Buffalo buffalo\"`\n",
        "using the variables `B = \"Buffalo\"` and `b = \"buffalo\"`, and a whitespace character."
      ]
    },
    {
      "cell_type": "code",
      "metadata": {
        "id": "e10jTfFs0T-k"
      },
      "source": [
        "# Solution for Exercise 6\n"
      ],
      "execution_count": null,
      "outputs": []
    },
    {
      "cell_type": "markdown",
      "metadata": {
        "id": "ZGJFYGc00nkS"
      },
      "source": [
        "## Types and exceptions\n",
        "\n",
        "Every object in Python has a **type**. Numbers can be of type `int` or `float`. `int` stands for integer, and `float` stands for floating-point number (used to represent real numbers). The two are distinguished in Python because computers can work with `int` much more quickly than with `float`. Python has other data types that are not numeric. These include strings\n",
        "(sequences of characters), booleans (the special words `True` and `False`), and\n",
        "many others. If you want to find out what the type of something is, you can simply use the built-in function `type`:"
      ]
    },
    {
      "cell_type": "code",
      "metadata": {
        "id": "zGy6EOIb06nf"
      },
      "source": [
        "a = 2\n",
        "type(a)"
      ],
      "execution_count": null,
      "outputs": []
    },
    {
      "cell_type": "code",
      "metadata": {
        "id": "fN-v6cXF094G"
      },
      "source": [
        "type(3.4)"
      ],
      "execution_count": null,
      "outputs": []
    },
    {
      "cell_type": "code",
      "metadata": {
        "id": "v9LS6vql1At6"
      },
      "source": [
        "type(True)"
      ],
      "execution_count": null,
      "outputs": []
    },
    {
      "cell_type": "code",
      "metadata": {
        "id": "whP_qxvU1DDe"
      },
      "source": [
        "type('spam')"
      ],
      "execution_count": null,
      "outputs": []
    },
    {
      "cell_type": "markdown",
      "metadata": {
        "id": "ibUuzTUD1GSP"
      },
      "source": [
        "Sometimes it makes sense to combine two variables that have different types. `int` and `float` can combine with each other without any difficulty.\n",
        "\n"
      ]
    },
    {
      "cell_type": "code",
      "metadata": {
        "id": "EqM-1bis1hYt"
      },
      "source": [
        "x = 13.2\n",
        "y = 2\n",
        "print(type(x), type(y))\n",
        "\n",
        "z = x / y\n",
        "print(type(z), z)"
      ],
      "execution_count": null,
      "outputs": []
    },
    {
      "cell_type": "markdown",
      "metadata": {
        "id": "O3YqKHoG11q8"
      },
      "source": [
        "On the other hand, it doesn’t always make sense to combine two values that have different types. What should the expression `1 + \"spam\"` evaluate to? In some sense, this expression is odd because we are trying to combine two types that aren’t very similar: one is a number, and the other is a bunch of characters. Python doesn't know what to do with that, so it throws an **exception**:"
      ]
    },
    {
      "cell_type": "code",
      "metadata": {
        "id": "ABsijtzh2D9u"
      },
      "source": [
        "1 + \"spam\""
      ],
      "execution_count": null,
      "outputs": []
    },
    {
      "cell_type": "markdown",
      "metadata": {
        "id": "-1sHubQq2ITA"
      },
      "source": [
        "The `TypeError` is telling us that the `+` operator was given two values it didn’t\n",
        "know how to add because of their types.\n",
        "What if we really did want to make a number a part of a string, though?\n",
        "\n",
        "Python has built-in functions for cases like these that take a value and transform\n",
        "it into a sensible equivalent in the target type:"
      ]
    },
    {
      "cell_type": "code",
      "metadata": {
        "id": "h64yE4dC2W8r"
      },
      "source": [
        "number_of_eggs = 7 + 4 + 2\n",
        "print(\"Number of eggs:\", number_of_eggs, type(number_of_eggs))\n",
        "\n",
        "number_of_eggs_string = str(number_of_eggs)\n",
        "print(\"Number of eggs:\", number_of_eggs_string, type(number_of_eggs_string))\n",
        "\n",
        "# now we can concatenate `number_of_eggs_string` with another string\n",
        "print(number_of_eggs_string + ' eggs')"
      ],
      "execution_count": null,
      "outputs": []
    },
    {
      "cell_type": "markdown",
      "metadata": {
        "id": "X4Pa9Z6l5xB2"
      },
      "source": [
        "## Lists\n",
        "\n",
        "Let's define a sentence and split it into words, using the function `split` that can be applied to strings. We will split the sentence based on a whitespace character."
      ]
    },
    {
      "cell_type": "code",
      "metadata": {
        "id": "q80Sn0vX6CtF"
      },
      "source": [
        "sentence = 'the dog barks to the postman'\n",
        "words = sentence.split(' ')\n",
        "print(words)"
      ],
      "execution_count": null,
      "outputs": []
    },
    {
      "cell_type": "markdown",
      "metadata": {
        "id": "IY_V-e1K6Ndq"
      },
      "source": [
        "What you are seeing above, is Python’s `list` data type. The function `split` splits the string into separate items based on the separator defined as an argument (in this case the whitespace character), and puts them in a list. A list is simply a collection of values stored in a certain order. While the list is conceptually simple, you will see that it is very powerful.\n",
        "\n",
        "Continuing from above, let’s try retrieving individual items from the list:"
      ]
    },
    {
      "cell_type": "code",
      "metadata": {
        "id": "k7sZOO7s6Vu7"
      },
      "source": [
        "words[0]"
      ],
      "execution_count": null,
      "outputs": []
    },
    {
      "cell_type": "code",
      "metadata": {
        "id": "YZkEgUCF6bQx"
      },
      "source": [
        "words[1]"
      ],
      "execution_count": null,
      "outputs": []
    },
    {
      "cell_type": "code",
      "metadata": {
        "id": "t9aZlMj96cbN"
      },
      "source": [
        "words[4]"
      ],
      "execution_count": null,
      "outputs": []
    },
    {
      "cell_type": "code",
      "metadata": {
        "id": "e5O1XZB56f2o"
      },
      "source": [
        "words[-1]"
      ],
      "execution_count": null,
      "outputs": []
    },
    {
      "cell_type": "code",
      "metadata": {
        "id": "gTMbDBkV6iR2"
      },
      "source": [
        "words[-2] + words[-1]"
      ],
      "execution_count": null,
      "outputs": []
    },
    {
      "cell_type": "markdown",
      "metadata": {
        "id": "WQL4xy6h6rJj"
      },
      "source": [
        "We refer to the number inside of the square brackets as the index, which corresponds to a position within the list. Something that might surprise you is that we started counting at 0 instead of 1. This is a convention followed in most programming languages.\n",
        "\n",
        "A consequence of this is that although there are 6 items in the list, attempting to access index 6 (`words[6]`) fails, because it actually refers to the non-existent 7th element:"
      ]
    },
    {
      "cell_type": "code",
      "metadata": {
        "id": "oc5adKiD7BwR"
      },
      "source": [
        "words[6] # this fails!"
      ],
      "execution_count": null,
      "outputs": []
    },
    {
      "cell_type": "markdown",
      "metadata": {
        "id": "r1S7dtzK7wEV"
      },
      "source": [
        "We can also get spans of words. These spans are called slices:"
      ]
    },
    {
      "cell_type": "code",
      "metadata": {
        "id": "dhCGSghV75IO"
      },
      "source": [
        "words[0:5]"
      ],
      "execution_count": null,
      "outputs": []
    },
    {
      "cell_type": "code",
      "metadata": {
        "id": "mHGBxz587_s-"
      },
      "source": [
        "words[2:-1]"
      ],
      "execution_count": null,
      "outputs": []
    },
    {
      "cell_type": "markdown",
      "metadata": {
        "id": "1A0kJ45f8IOG"
      },
      "source": [
        "Slices have a start index and an end index. However, as you can see, the item in the left index is *included*, while the item in the right index is *excluded*.\n",
        "Why not include both? One reason for this is that defining slices this way\n",
        "lets you use the `len`, which tells you the length of a list, as a slice’s right\n",
        "index:"
      ]
    },
    {
      "cell_type": "code",
      "metadata": {
        "id": "Bh3sT4n18WvB"
      },
      "source": [
        "len(words)"
      ],
      "execution_count": null,
      "outputs": []
    },
    {
      "cell_type": "code",
      "metadata": {
        "id": "axCQQlIf8Z8m"
      },
      "source": [
        "words[1:len(words)]"
      ],
      "execution_count": null,
      "outputs": []
    },
    {
      "cell_type": "markdown",
      "metadata": {
        "id": "3r1ikITI8iXZ"
      },
      "source": [
        "You can also omit one or both of the slice indices, as well as use negative\n",
        "indices:"
      ]
    },
    {
      "cell_type": "code",
      "metadata": {
        "id": "r6PZGzT48pxM"
      },
      "source": [
        "words[:2]"
      ],
      "execution_count": null,
      "outputs": []
    },
    {
      "cell_type": "code",
      "metadata": {
        "id": "k-RVu2Ul8tBC"
      },
      "source": [
        "words[2:]"
      ],
      "execution_count": null,
      "outputs": []
    },
    {
      "cell_type": "code",
      "metadata": {
        "id": "9czS7BIY8vWZ"
      },
      "source": [
        "words[-2:]"
      ],
      "execution_count": null,
      "outputs": []
    },
    {
      "cell_type": "markdown",
      "metadata": {
        "id": "NkEp9tEa82WK"
      },
      "source": [
        "It turns out that many other types in Python support the indexing and\n",
        "slicing operations, as well.\n",
        "\n",
        "Strings, for example, are among them. In the next bit, the `s` variable contains a string, and by using indices, we treat it as a list of characters, and point to the characters within the string."
      ]
    },
    {
      "cell_type": "code",
      "metadata": {
        "id": "p3UGliJ389vw"
      },
      "source": [
        "s = \"I shall be late!\"\n",
        "s[0]"
      ],
      "execution_count": null,
      "outputs": []
    },
    {
      "cell_type": "code",
      "metadata": {
        "id": "bEG6dxsZ9CIy"
      },
      "source": [
        "s[-6:]"
      ],
      "execution_count": null,
      "outputs": []
    },
    {
      "cell_type": "markdown",
      "metadata": {
        "id": "Qjyfgm-G9HVT"
      },
      "source": [
        "If you want to add an element to a list, you can use the `append` method:"
      ]
    },
    {
      "cell_type": "code",
      "metadata": {
        "id": "LkDaPmJT9PLK"
      },
      "source": [
        "chars = ['Alice', 'Pat', 'Cheshire Cat']\n",
        "chars.append('Mad Hatter')\n",
        "\n",
        "chars"
      ],
      "execution_count": null,
      "outputs": []
    },
    {
      "cell_type": "markdown",
      "source": [
        "You can also concatenate lists together using the `+` operator."
      ],
      "metadata": {
        "id": "OUOMZNBYu7Vk"
      }
    },
    {
      "cell_type": "code",
      "metadata": {
        "id": "hPKRtBh69dfJ"
      },
      "source": [
        "chars = chars + ['Queen of Hearts', 'King of Hearts']\n",
        "chars"
      ],
      "execution_count": null,
      "outputs": []
    },
    {
      "cell_type": "markdown",
      "metadata": {
        "id": "7JU_C60W9qHJ"
      },
      "source": [
        "In order to delete items from a list, you can use the `pop` method:"
      ]
    },
    {
      "cell_type": "code",
      "metadata": {
        "id": "AXMeF8Aq9xGS"
      },
      "source": [
        "words.pop()\n",
        "words"
      ],
      "execution_count": null,
      "outputs": []
    },
    {
      "cell_type": "markdown",
      "source": [
        "You can also use slices to create a new list:"
      ],
      "metadata": {
        "id": "9tLWHmkAxQwo"
      }
    },
    {
      "cell_type": "code",
      "metadata": {
        "id": "okpaJhbf91SJ"
      },
      "source": [
        "words[2:4] + words[0:2] + ['indeed']"
      ],
      "execution_count": null,
      "outputs": []
    },
    {
      "cell_type": "markdown",
      "metadata": {
        "id": "paZLH2wp-A7Y"
      },
      "source": [
        "### Exercise 7: Construct list\n",
        "Using the list `a = ['Alice', 'was', 'not', 'a', 'bit', 'hurt']`, construct\n",
        "these lists:\n",
        "\n",
        "\n",
        "1.   `['not', 'a', 'bit', 'hurt']`\n",
        "2. `['Alice', 'was', 'hurt']`\n",
        "3. `['Alice', 'hurt', 'a', 'bit']`\n",
        "4. `['a', 'bit', 'hurt', 'Alice', 'not']`\n",
        "\n",
        "(Hint: remember that if you have a string `'s'` you can surround it with\n",
        "brackets `['s']` to turn it into a list with one element.)"
      ]
    },
    {
      "cell_type": "code",
      "metadata": {
        "id": "vt8ujvFp-Aqo"
      },
      "source": [
        "# Code for exercise 7\n"
      ],
      "execution_count": null,
      "outputs": []
    },
    {
      "cell_type": "markdown",
      "metadata": {
        "id": "xO2M6oEb-3QW"
      },
      "source": [
        "### Exercise 8: Construct list\n",
        "\n",
        "Find at least three different ways to form the list `['Alice', 'was', 'a', 'bit', 'hurt']` using the list in exercise 7."
      ]
    },
    {
      "cell_type": "code",
      "metadata": {
        "id": "DC-ezoXA_N-Q"
      },
      "source": [
        "# Code for exercise 8\n"
      ],
      "execution_count": null,
      "outputs": []
    },
    {
      "cell_type": "markdown",
      "metadata": {
        "id": "0YB_kdM1_BqZ"
      },
      "source": [
        "### Exercise 9: pop and append\n",
        "Use only the functions `pop` and `append` to turn the list\n",
        "`['many', 'a', 'strange', 'tale']` into `['many', 'a', 'tale']`."
      ]
    },
    {
      "cell_type": "code",
      "metadata": {
        "id": "wy5EC1-f_QP2"
      },
      "source": [
        "# Code for exercise 9\n"
      ],
      "execution_count": null,
      "outputs": []
    },
    {
      "cell_type": "markdown",
      "metadata": {
        "id": "ycFQ5E50_YJ_"
      },
      "source": [
        "### Exercise 10: join\n",
        "\n",
        "Strings have a function called `join` that inserts the string in between\n",
        "every item in a list of strings it is given."
      ]
    },
    {
      "cell_type": "code",
      "metadata": {
        "id": "YVrvhVCk_tPQ"
      },
      "source": [
        "\" \".join(['riper','years'])"
      ],
      "execution_count": null,
      "outputs": []
    },
    {
      "cell_type": "markdown",
      "metadata": {
        "id": "DnE9cazj_sFM"
      },
      "source": [
        "Use the function `join` in order to turn the `words` list into a string, such that the words are separated by tabs."
      ]
    },
    {
      "cell_type": "code",
      "metadata": {
        "id": "O9yjNJJF_-iU"
      },
      "source": [
        "# code for exercise 10\n"
      ],
      "execution_count": null,
      "outputs": []
    },
    {
      "cell_type": "markdown",
      "metadata": {
        "id": "zSO-ZtBCAmLw"
      },
      "source": [
        "### Exercise 11: slicing\n",
        "\n",
        "Use slicing to turn the string `'the voice of the shepherd boy'` into\n",
        "`'the shepherd of the boy'`."
      ]
    },
    {
      "cell_type": "code",
      "metadata": {
        "id": "N4Jc-2P5AuOX"
      },
      "source": [
        "# code for exercise 11\n",
        "\n",
        "s = 'the voice of the shepherd boy'"
      ],
      "execution_count": null,
      "outputs": []
    },
    {
      "cell_type": "markdown",
      "metadata": {
        "id": "hs-CHgGnA8rN"
      },
      "source": [
        "## When (not) to assign\n",
        "\n",
        "You might have noticed that when we’re making changes to our data, sometimes\n",
        "we use assignment, and sometimes we don’t:\n",
        "\n",
        "\n",
        "\n"
      ]
    },
    {
      "cell_type": "code",
      "metadata": {
        "id": "xeKcET8ABiJA"
      },
      "source": [
        "x = 2\n",
        "x = x + 1 # x is now 3\n",
        "print(x)\n",
        "\n",
        "y = [1, 2]\n",
        "y.append(3) # y is now [1,2,3]\n",
        "print(y)"
      ],
      "execution_count": null,
      "outputs": []
    },
    {
      "cell_type": "markdown",
      "metadata": {
        "id": "cNRsS5QfB2OO"
      },
      "source": [
        "With `x`, we evaluate the expression `x + 1` and assign the result back into  `x`.\n",
        "With `y`, we use append to add `3` to the list, but we do not do anything with\n",
        "the result of the expression `y.append(3)`.\n",
        "\n",
        "So what’s going on here? Let’s see what happens when we use the opposite\n",
        "strategy with either data type:"
      ]
    },
    {
      "cell_type": "code",
      "metadata": {
        "id": "9nkfnxAMB5qH"
      },
      "source": [
        "x = 2\n",
        "x + 1\n",
        "print(x)\n",
        "\n",
        "y = [1,2]\n",
        "z = y.append(3)\n",
        "print(z)\n",
        "print(y)"
      ],
      "execution_count": null,
      "outputs": []
    },
    {
      "cell_type": "markdown",
      "metadata": {
        "id": "Y4KX5NeeCK0C"
      },
      "source": [
        "In the first case, the results make sense: we computed the quantity `x + 1 =\n",
        "3`, but did not assign it to any variable. But the second case might be more\n",
        "surprising. Unlike the expression `x + 1`, `y.append(3)` evaluates to `None`, and\n",
        "instead, a change is made to the list called `y`. It turns out that lists are allowed to have their contents change, whereas numbers are not.\n",
        "\n",
        "In this respect, when a data type behaves like a number, we say it is immutable (not changeable), and when it behaves like a list, we say it is mutable (changeable). You will always need to assign the value of an expression like `x + 1` to a variable, and you will usually **not** want to reassign\n",
        "the value of an expression like `y.append(3)`.\n",
        "\n",
        "This difference in behavior may seem arbitrary and confusing. For now, all you need to remember is that in Python, numbers and strings are immutable. For all other data types, you should assume that they are mutable.\n",
        "\n",
        "This is the end of the first practical session. Next week we'll continue with some slightly more advanced concepts, such as loops, dictionaries, and input and output."
      ]
    }
  ]
}